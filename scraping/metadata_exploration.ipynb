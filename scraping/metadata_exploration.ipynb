{
 "cells": [
  {
   "cell_type": "markdown",
   "metadata": {},
   "source": [
    "# Explore Metadata of Zurich's OGD"
   ]
  },
  {
   "cell_type": "code",
   "execution_count": null,
   "metadata": {},
   "outputs": [],
   "source": [
    "import json\n",
    "import os\n",
    "import tiktoken\n",
    "import numpy as np\n",
    "\n",
    "path = '../data/metadata/50000006/processed'\n",
    "tokenizer = tiktoken.get_encoding(\"cl100k_base\")\n",
    "\n",
    "# Iterate over all JSON files in the directory\n",
    "tokens_total = []\n",
    "tokens_subset = []\n",
    "tokens_title = []\n",
    "titles = []\n",
    "for filename in os.listdir(path):\n",
    "    if filename.endswith('.json'):\n",
    "        with open(os.path.join(path, filename), encoding='utf-8') as f:\n",
    "            data = json.load(f)\n",
    "            nr_tokens_total = len(tokenizer.encode(json.dumps(data)))\n",
    "            nr_tokens_title = len(tokenizer.encode(json.dumps(data['title'])))\n",
    "\n",
    "            # Encoded document\n",
    "            doc = data[\"title\"] + ((\" (\" + data[\"identificationDate\"] + \")\") if (data[\"identificationDate\"]) else \"\") + \" \" + data[\"purpose\"] + \" \" + data[\"abstract\"]\n",
    "            nr_tokens_doc = len(tokenizer.encode(doc))\n",
    "\n",
    "            tokens_total.append(nr_tokens_total)\n",
    "            tokens_subset.append(nr_tokens_doc)\n",
    "            tokens_title.append(nr_tokens_title)\n",
    "            titles.append(data[\"title\"])\n",
    "\n",
    "# Print titles for max/min token count\n",
    "max_idx = tokens_total.index(max(tokens_total))\n",
    "min_idx = tokens_total.index(min(tokens_total))\n",
    "print(f\"Title with highest token count: {titles[max_idx]}\")\n",
    "print(f\"Title with lowest token count: {titles[min_idx]}\")\n",
    "\n",
    "print(\"=====================\")\n",
    "print(\"Token Analysis Total\")\n",
    "print(f\"Sum: {sum(tokens_total)}, Mean: {sum(tokens_total)/len(tokens_total)}, Std: {np.std(tokens_total)}, Max: {max(tokens_total)}, Min: {min(tokens_total)}\")\n",
    "print(\"=====================\")\n",
    "print(\"Token Analysis Document Subset\")\n",
    "print(f\"Sum: {sum(tokens_subset)}, Mean: {sum(tokens_subset)/len(tokens_subset)}, Std: {np.std(tokens_subset)}, Max: {max(tokens_subset)}, Min: {min(tokens_subset)}\")\n",
    "print(\"=====================\")\n",
    "print(\"Token Analysis Title\")\n",
    "print(f\"Sum: {sum(tokens_title)}, Mean: {sum(tokens_title)/len(tokens_title)}, Std: {np.std(tokens_title)}, Max: {max(tokens_title)}, Min: {min(tokens_title)}\")\n",
    "print(\"=====================\")"
   ]
  }
 ],
 "metadata": {
  "kernelspec": {
   "display_name": ".venv",
   "language": "python",
   "name": "python3"
  },
  "language_info": {
   "codemirror_mode": {
    "name": "ipython",
    "version": 3
   },
   "file_extension": ".py",
   "mimetype": "text/x-python",
   "name": "python",
   "nbconvert_exporter": "python",
   "pygments_lexer": "ipython3",
   "version": "3.12.9"
  }
 },
 "nbformat": 4,
 "nbformat_minor": 2
}
